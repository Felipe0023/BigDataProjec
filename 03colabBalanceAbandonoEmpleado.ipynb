{
  "nbformat": 4,
  "nbformat_minor": 0,
  "metadata": {
    "colab": {
      "provenance": []
    },
    "kernelspec": {
      "name": "python3",
      "display_name": "Python 3"
    },
    "language_info": {
      "name": "python"
    }
  },
  "cells": [
    {
      "cell_type": "code",
      "source": [
        "import pandas as pd"
      ],
      "metadata": {
        "id": "Qih9zTEp4Mpb"
      },
      "execution_count": 1,
      "outputs": []
    },
    {
      "cell_type": "code",
      "execution_count": null,
      "metadata": {
        "id": "Pts4LaiB3_cX"
      },
      "outputs": [],
      "source": [
        "URL = \"https://raw.githubusercontent.com/Felipe0023/BigDataProject/main/01DataBricksAbandonoEmpleadoClean.csv\"\n",
        "df = pd.read_csv(URL)\n",
        "display(df)"
      ]
    },
    {
      "cell_type": "code",
      "source": [
        "df.left.value_counts() # en cantidades"
      ],
      "metadata": {
        "id": "xmvwmE6243Q-"
      },
      "execution_count": null,
      "outputs": []
    },
    {
      "cell_type": "code",
      "source": [
        "df.left.value_counts()*100/df.shape[0] # en porcentaje"
      ],
      "metadata": {
        "id": "GWnzpKjg4huJ"
      },
      "execution_count": null,
      "outputs": []
    },
    {
      "cell_type": "code",
      "source": [
        "import seaborn as sns\n",
        "sns.catplot(x=\"left\", kind=\"count\", data=df)"
      ],
      "metadata": {
        "id": "AW90ZgKU5h-h"
      },
      "execution_count": null,
      "outputs": []
    },
    {
      "cell_type": "markdown",
      "source": [
        "## Transformando datos categoricos nominales \"Department\""
      ],
      "metadata": {
        "id": "qC5tfuycoHTv"
      }
    },
    {
      "cell_type": "code",
      "source": [
        "df.info(), df.shape, df.left.value_counts()"
      ],
      "metadata": {
        "id": "2G5tmuZToG8k"
      },
      "execution_count": null,
      "outputs": []
    },
    {
      "cell_type": "code",
      "source": [
        "df = pd.DataFrame(df)\n",
        "df[\"Department\"] = df[\"Department\"] .astype(\"category\")\n",
        "df.info()"
      ],
      "metadata": {
        "id": "etJm43kkotQm"
      },
      "execution_count": null,
      "outputs": []
    },
    {
      "cell_type": "code",
      "source": [
        "df.groupby('Department').count()"
      ],
      "metadata": {
        "id": "OeAd0hZztZ9U"
      },
      "execution_count": null,
      "outputs": []
    },
    {
      "cell_type": "code",
      "source": [
        "from sklearn.preprocessing import OneHotEncoder\n",
        "codificador = OneHotEncoder()\n",
        "codificacion = codificador.fit_transform(df[[\"Department\"]])\n",
        "nuevas = pd.DataFrame(codificacion.toarray(), columns=codificador.categories_)\n",
        "\n",
        "df = pd.concat([df, nuevas], axis = \"columns\")\n",
        "df"
      ],
      "metadata": {
        "id": "SKMTUBlAsBZO"
      },
      "execution_count": null,
      "outputs": []
    },
    {
      "cell_type": "code",
      "source": [
        "df.drop(\"Department\", axis = \"columns\", inplace=True)\n",
        "df"
      ],
      "metadata": {
        "id": "kkF42mi7wvmt"
      },
      "execution_count": null,
      "outputs": []
    },
    {
      "cell_type": "code",
      "source": [
        "df.left.value_counts() # en cantidades"
      ],
      "metadata": {
        "id": "UVcBuwwHojOf"
      },
      "execution_count": null,
      "outputs": []
    },
    {
      "cell_type": "markdown",
      "source": [
        "## Transformando datos categoricos ordinales \"salary\""
      ],
      "metadata": {
        "id": "ENRTuiBEy9hj"
      }
    },
    {
      "cell_type": "code",
      "source": [
        "df.info(), df.shape, df.left.value_counts()"
      ],
      "metadata": {
        "id": "D3PezhAxYAyu"
      },
      "execution_count": null,
      "outputs": []
    },
    {
      "cell_type": "code",
      "source": [
        "df = pd.DataFrame(df)\n",
        "df[\"salary\"] = df[\"salary\"] .astype(\"category\")\n",
        "df.info()"
      ],
      "metadata": {
        "id": "1tRLpK12YN2v"
      },
      "execution_count": null,
      "outputs": []
    },
    {
      "cell_type": "code",
      "source": [
        "df.salary.value_counts() # en cantidades"
      ],
      "metadata": {
        "id": "ELqSQQBvYgUi"
      },
      "execution_count": null,
      "outputs": []
    },
    {
      "cell_type": "code",
      "source": [
        "from sklearn.preprocessing import OneHotEncoder\n",
        "codificador = OneHotEncoder()\n",
        "codificacion = codificador.fit_transform(df[[\"salary\"]])\n",
        "nuevas = pd.DataFrame(codificacion.toarray(), columns=codificador.categories_)\n",
        "\n",
        "df = pd.concat([df, nuevas], axis = \"columns\")\n",
        "df"
      ],
      "metadata": {
        "id": "aHDgP9O1zBF9"
      },
      "execution_count": null,
      "outputs": []
    },
    {
      "cell_type": "code",
      "source": [
        "df.drop(\"salary\", axis = \"columns\", inplace=True)\n",
        "df"
      ],
      "metadata": {
        "id": "4sHjel0eZJYA"
      },
      "execution_count": null,
      "outputs": []
    },
    {
      "cell_type": "code",
      "source": [
        "from google.colab import files\n",
        "df.to_excel('02colabBalanceAbandonoEmpleadoSemi.xlsx')\n",
        "files.download('02colabBalanceAbandonoEmpleadoSemi.xlsx')"
      ],
      "metadata": {
        "id": "wSrMJAt2pBZU"
      },
      "execution_count": null,
      "outputs": []
    },
    {
      "cell_type": "code",
      "source": [
        "df = pd.read_csv(\"https://raw.githubusercontent.com/Felipe0023/BigDataProject/main/02colabBalanceAbandonoEmpleadoSemi.csv\")\n",
        "display(df)"
      ],
      "metadata": {
        "id": "Sfwgo6NSiNoN"
      },
      "execution_count": null,
      "outputs": []
    },
    {
      "cell_type": "markdown",
      "source": [
        "# SMOTE"
      ],
      "metadata": {
        "id": "KYV9DabXfAGG"
      }
    },
    {
      "cell_type": "code",
      "source": [
        "!pip install imblearn"
      ],
      "metadata": {
        "id": "NCt_8-JYf5oC"
      },
      "execution_count": null,
      "outputs": []
    },
    {
      "cell_type": "code",
      "source": [
        "from imblearn.over_sampling import SMOTE"
      ],
      "metadata": {
        "id": "dnRugExKe_rD"
      },
      "execution_count": 40,
      "outputs": []
    },
    {
      "cell_type": "code",
      "source": [
        "X = df.drop('left', axis = 1)\n",
        "y = df[['left']]"
      ],
      "metadata": {
        "id": "LlFuGvYhgX6D"
      },
      "execution_count": 41,
      "outputs": []
    },
    {
      "cell_type": "code",
      "source": [
        "smote = SMOTE(sampling_strategy='minority')\n",
        "X_sm, y_sm = smote.fit_resample(X, y)"
      ],
      "metadata": {
        "id": "Lq0g3fxMguaG"
      },
      "execution_count": 42,
      "outputs": []
    },
    {
      "cell_type": "code",
      "source": [
        "df_X_sm = pd.DataFrame(data=X_sm, columns=X.columns)\n",
        "df_y_sm = pd.DataFrame(data=y_sm, columns=['left'])\n",
        "\n",
        "df_balanceado_sm = pd.concat([df_X_sm, df_y_sm], axis = 1 )\n"
      ],
      "metadata": {
        "id": "J-uUOsj8iwdV"
      },
      "execution_count": 43,
      "outputs": []
    },
    {
      "cell_type": "code",
      "source": [
        "df_balanceado_sm"
      ],
      "metadata": {
        "id": "65VSyLAJklR6"
      },
      "execution_count": null,
      "outputs": []
    },
    {
      "cell_type": "code",
      "source": [
        "df_balanceado_sm.left.value_counts()"
      ],
      "metadata": {
        "id": "XjI77rKBlHpn"
      },
      "execution_count": null,
      "outputs": []
    },
    {
      "cell_type": "code",
      "source": [
        "sns.catplot(x=\"left\", kind=\"count\", data=df_balanceado_sm)"
      ],
      "metadata": {
        "id": "r6kxqMHOlSds"
      },
      "execution_count": null,
      "outputs": []
    },
    {
      "cell_type": "code",
      "source": [
        "from google.colab import files\n",
        "df_balanceado_sm.to_excel('02colabBalanceAbandonoEmpleado.xlsx')\n",
        "files.download('02colabBalanceAbandonoEmpleado.xlsx')"
      ],
      "metadata": {
        "colab": {
          "base_uri": "https://localhost:8080/",
          "height": 17
        },
        "id": "48FKCXpxlco8",
        "outputId": "96feab3a-fcec-4c44-ffd0-5fc5e7885c64"
      },
      "execution_count": 47,
      "outputs": [
        {
          "output_type": "display_data",
          "data": {
            "text/plain": [
              "<IPython.core.display.Javascript object>"
            ],
            "application/javascript": [
              "\n",
              "    async function download(id, filename, size) {\n",
              "      if (!google.colab.kernel.accessAllowed) {\n",
              "        return;\n",
              "      }\n",
              "      const div = document.createElement('div');\n",
              "      const label = document.createElement('label');\n",
              "      label.textContent = `Downloading \"${filename}\": `;\n",
              "      div.appendChild(label);\n",
              "      const progress = document.createElement('progress');\n",
              "      progress.max = size;\n",
              "      div.appendChild(progress);\n",
              "      document.body.appendChild(div);\n",
              "\n",
              "      const buffers = [];\n",
              "      let downloaded = 0;\n",
              "\n",
              "      const channel = await google.colab.kernel.comms.open(id);\n",
              "      // Send a message to notify the kernel that we're ready.\n",
              "      channel.send({})\n",
              "\n",
              "      for await (const message of channel.messages) {\n",
              "        // Send a message to notify the kernel that we're ready.\n",
              "        channel.send({})\n",
              "        if (message.buffers) {\n",
              "          for (const buffer of message.buffers) {\n",
              "            buffers.push(buffer);\n",
              "            downloaded += buffer.byteLength;\n",
              "            progress.value = downloaded;\n",
              "          }\n",
              "        }\n",
              "      }\n",
              "      const blob = new Blob(buffers, {type: 'application/binary'});\n",
              "      const a = document.createElement('a');\n",
              "      a.href = window.URL.createObjectURL(blob);\n",
              "      a.download = filename;\n",
              "      div.appendChild(a);\n",
              "      a.click();\n",
              "      div.remove();\n",
              "    }\n",
              "  "
            ]
          },
          "metadata": {}
        },
        {
          "output_type": "display_data",
          "data": {
            "text/plain": [
              "<IPython.core.display.Javascript object>"
            ],
            "application/javascript": [
              "download(\"download_1e7fd873-32ce-4477-a7b1-3b161d5f29df\", \"02colabBalanceAbandonoEmpleado.xlsx\", 1866011)"
            ]
          },
          "metadata": {}
        }
      ]
    }
  ]
}